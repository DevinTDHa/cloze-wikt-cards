{
 "cells": [
  {
   "cell_type": "code",
   "execution_count": 4,
   "metadata": {},
   "outputs": [],
   "source": [
    "import os\n",
    "import pandas as pd\n",
    "\n",
    "import cudf\n",
    "\n",
    "\n",
    "from find_examples import CorpusExamples"
   ]
  },
  {
   "cell_type": "code",
   "execution_count": 5,
   "metadata": {},
   "outputs": [
    {
     "name": "stdout",
     "output_type": "stream",
     "text": [
      "Preparing corpus from /media/ducha/SSDSHARED/VN/subs_dump/viet_subs_processed2\n",
      "Corpus prepared with 13646 files\n",
      "Total Examples 7736833\n"
     ]
    }
   ],
   "source": [
    "corpus_folder = \"/media/ducha/SSDSHARED/VN/subs_dump/viet_subs_processed2\"\n",
    "corpus_examples = CorpusExamples(\n",
    "    corpus_folder=corpus_folder, use_semantic_sorting=False\n",
    ")"
   ]
  },
  {
   "cell_type": "code",
   "execution_count": 6,
   "metadata": {},
   "outputs": [],
   "source": [
    "df = cudf.DataFrame(corpus_examples.corpus).explode(1)  # explode the list of sentences"
   ]
  },
  {
   "cell_type": "code",
   "execution_count": 7,
   "metadata": {},
   "outputs": [
    {
     "data": {
      "text/plain": [
       "0    7736833\n",
       "1    7736833\n",
       "dtype: int64"
      ]
     },
     "execution_count": 7,
     "metadata": {},
     "output_type": "execute_result"
    }
   ],
   "source": [
    "# df_small= df.head(500000)\n",
    "df_small = df\n",
    "df_small.count()"
   ]
  },
  {
   "cell_type": "code",
   "execution_count": 8,
   "metadata": {},
   "outputs": [
    {
     "name": "stdout",
     "output_type": "stream",
     "text": [
      "CPU times: user 448 ms, sys: 12 ms, total: 460 ms\n",
      "Wall time: 472 ms\n"
     ]
    },
    {
     "data": {
      "text/plain": [
       "0    1979\n",
       "1    1979\n",
       "dtype: int64"
      ]
     },
     "execution_count": 8,
     "metadata": {},
     "output_type": "execute_result"
    }
   ],
   "source": [
    "%%time\n",
    "# example = r\"từ\"\n",
    "example = r\"(^|\\W)hang($|\\W)\"\n",
    "\n",
    "found_examples = df_small[df_small[1].str.contains(example)]\n",
    "\n",
    "found_examples.count()"
   ]
  },
  {
   "cell_type": "code",
   "execution_count": 15,
   "metadata": {},
   "outputs": [
    {
     "data": {
      "text/plain": [
       "0      hang \n",
       "1      hang.\n",
       "2      hang,\n",
       "3      hang…\n",
       "4      hang!\n",
       "5      hang\"\n",
       "6     .hang \n",
       "7      hang \n",
       "8      hang?\n",
       "9      hang)\n",
       "10      hang\n",
       "11    \"hang \n",
       "12    \"hang\"\n",
       "Name: 0, dtype: object"
      ]
     },
     "execution_count": 15,
     "metadata": {},
     "output_type": "execute_result"
    }
   ],
   "source": [
    "found_examples[1].str.extract(r\"((?:^|\\W)hang(?:$|\\W))\")unique()"
   ]
  },
  {
   "cell_type": "code",
   "execution_count": null,
   "metadata": {},
   "outputs": [],
   "source": []
  }
 ],
 "metadata": {
  "kernelspec": {
   "display_name": "rapids-24.08",
   "language": "python",
   "name": "python3"
  },
  "language_info": {
   "codemirror_mode": {
    "name": "ipython",
    "version": 3
   },
   "file_extension": ".py",
   "mimetype": "text/x-python",
   "name": "python",
   "nbconvert_exporter": "python",
   "pygments_lexer": "ipython3",
   "version": "3.11.9"
  }
 },
 "nbformat": 4,
 "nbformat_minor": 2
}
