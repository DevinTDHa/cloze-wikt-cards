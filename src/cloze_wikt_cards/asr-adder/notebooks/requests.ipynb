{
 "cells": [
  {
   "cell_type": "code",
   "execution_count": 11,
   "metadata": {},
   "outputs": [
    {
     "name": "stdout",
     "output_type": "stream",
     "text": [
      "Audio file uploaded successfully\n"
     ]
    }
   ],
   "source": [
    "import requests\n",
    "import io\n",
    "\n",
    "test_file = (\n",
    "    \"/home/ducha/Dropbox/Projects/cloze-wikt-cards/asr-adder/notebooks/sample.wav\"\n",
    ")\n",
    "with open(test_file, \"rb\") as f:\n",
    "    audio_bytes = f.read()\n",
    "\n",
    "# Create a BytesIO object\n",
    "audio_buffer = io.BytesIO(audio_bytes)\n",
    "\n",
    "# Set the appropriate headers\n",
    "# headers = {\"Content-Type\": \"audio/wav\"}  # Adjust this based on your audio file type\n",
    "\n",
    "# Create the files dictionary\n",
    "# files = {\"audio\": audio_buffer}  # Adjust this based on your audio file type\n",
    "files = {\"audio\": open(test_file, \"rb\")}  # Adjust this based on your audio file type\n",
    "\n",
    "# Send the POST request\n",
    "url = \"http://localhost:5000/process_audio\"\n",
    "response = requests.post(url, files=files)\n",
    "\n",
    "# Check the response\n",
    "if response.status_code == 200:\n",
    "    print(\"Audio file uploaded successfully\")\n",
    "else:\n",
    "    print(f\"Error uploading audio file: {response.status_code}\")\n",
    "    print(response.text)"
   ]
  },
  {
   "cell_type": "code",
   "execution_count": 14,
   "metadata": {},
   "outputs": [
    {
     "data": {
      "text/plain": [
       "{'bạn': {'json': '[{\"pos\": \"noun\", \"etymology\": \"Sino-Vietnamese word from 伴.\", \"meanings\": [{\"meaning\": \"a friend, mate, buddy, ally, etc.\", \"examples\": [\"bạn cùng lớp/trường/phòng ― a class/school/roommate\", \"an toàn là bạn, tai nạn là thù ― safety is your friend, accidents your foes\"]}]}, {\"pos\": \"pron\", \"etymology\": \"Sino-Vietnamese word from 伴.\", \"meanings\": [{\"meaning\": \"you, a young person in your twenties\", \"examples\": [\"Chào bạn. Bạn là sinh viên năm thứ mấy ạ? ― Hi. What year are you in?\"]}, {\"meaning\": \"you, an unspecified person who is reading this book, viewing or listening to this broadcast, using this product, etc., regardless of your age or gender; compare ông (“you, a middle-aged or older man”), bà (“you, a middle-aged or older woman”), anh (“you, a reasonably young man”) and chị (“you, a reasonably young woman”)\", \"examples\": [\"Đó là tôi. Chắc bạn muốn biết làm sao mà tôi lại rơi vào tình huống này. ― That is me. You might be wondering how I ended up in this situation.\", \"Bạn và tôi, chúng ta hãy cùng chung tay bảo vệ ngôi nhà xanh này. ― You and me, let\\'s protect this green home of ours together.\", \"Bạn vừa thích tin nhắn từ lolly70. ― You liked a message from lolly70.\"]}, {\"meaning\": \"(especially Southern Vietnam) you, a peer of mine\", \"examples\": [\"Bạn cho mình hỏi Quận 1 đi đường nào. ― Could you show me the way to District 1?\"]}]}, {\"pos\": \"verb\", \"etymology\": \"Sino-Vietnamese word from 叛.\", \"meanings\": [{\"meaning\": \"(obsolete, literary) to revolt against; to oppose the higher power\"}]}]',\n",
       "  'short': 'noun: a friend, mate, buddy, ally, etc. | pron: you, a young person in your twenties; you, an unspecified person who is reading this book, viewing or listening to this broadcast, using this product, etc., regardless of your age or gender; compare ông (“you, a middle-aged or older man”), bà (“you, a middle-aged or older woman”), anh (“you, a reasonably young man”) and chị (“you, a reasonably young woman”); (especially Southern Vietnam) you, a peer of mine | verb: (obsolete, literary) to revolt against; to oppose the higher power'},\n",
       " 'chào': {'json': '[{\"pos\": \"verb\", \"etymology\": \"Non-Sino-Vietnamese reading of Chinese 朝 (“to meet; to meet a senior person; to attend the emperor\\'s audience”, SV: triều). Doublet of chầu and triều. (Nguyễn Văn Khang. Từ ngoại lai trong tiếng Việt, 2007)\\\\nFalse cognate of Italian ciao, which also means both \\\\\"hello\\\\\" and \\\\\"goodbye\\\\\".\", \"meanings\": [{\"meaning\": \"(usually transitive) to greet, salute, say hello or goodbye to\", \"examples\": [\"chào từ biệt ― to bid farewell\", \"chào khách ― to solicit a customer\", \"Gặp bạn cứ lờ đi không chào. ― (literally, “That person ignored me and didn\\'t say hi.”)\", \"Chào bác đi con. ― Say hi to your auntie.\", \"(Cháu) chào chú (ạ). ― (literally, “I greet you, young Mister”)\", \"Chào mọi người! ― Hello/Bye everybody!\", \"Xin (kính) chào quý vị và các bạn. ― (literally, “We\\'d like to cordially greet you, our honorable audience and friends.”)\", \"Xin (kính) chào và hẹn gặp lại. ― (literally, “We\\'d like to bid you farewell and we hope to see you again.”)\", \"Chào anh! Chào chị! (Chào cô, chào chú, chào bác!) Tại sao không? Thỉnh thoảng người Việt đánh giá hơi thấp về khả năng tiếp cận văn hóa của khách Tây – đến giờ vẫn có người ngạc nhiên khi thấy tôi dùng đũa. Sự thật là du khách Tây ở bên này nhanh hiểu không khác gì du khách “ta” ở bên kia.\\\\nChào anh (hi there, brother)! Chào chị (hi there, sister)! (Chào cô (hi there, younger auntie), chào chú (hi there, younger uncle), chào bác (hi there, older auntie/uncle)!) Why not? I think Vietnamese folks often understimate westerners\\' grasp of another culture. Case in point, there are still people surprised by my chopsticks prowess. The truth is, western folks here in Vietnam are just as receptive as Vietnamese folks in other countries.\"]}]}, {\"pos\": \"intj\", \"etymology\": \"Non-Sino-Vietnamese reading of Chinese 朝 (“to meet; to meet a senior person; to attend the emperor\\'s audience”, SV: triều). Doublet of chầu and triều. (Nguyễn Văn Khang. Từ ngoại lai trong tiếng Việt, 2007)\\\\nFalse cognate of Italian ciao, which also means both \\\\\"hello\\\\\" and \\\\\"goodbye\\\\\".\", \"meanings\": [{\"meaning\": \"alas; ah\", \"examples\": [\"Chào! Ăn thua gì! ― Ah! It didn\\'t work!\"]}]}]',\n",
       "  'short': 'verb: (usually transitive) to greet, salute, say hello or goodbye to | intj: alas; ah'},\n",
       " 'các': {'json': '[{\"pos\": \"det\", \"etymology\": \"Sino-Vietnamese word from 各 (“each, individually, every, all”).\", \"meanings\": [{\"meaning\": \"Plural marker\"}]}, {\"pos\": \"noun\", \"etymology\": \"French carte.\", \"meanings\": [{\"meaning\": \"(dated) cell phone\\'s card\"}]}, {\"pos\": \"verb\", \"meanings\": [{\"meaning\": \"to pay the difference, to give in compensation\"}]}, {\"pos\": \"name\", \"etymology\": \"From German Karl.\", \"meanings\": [{\"meaning\": \"A transliteration of the German male given name Karl\", \"examples\": [\"Các Mác ― Karl Marx\"]}]}]',\n",
       "  'short': \"det: Plural marker | noun: (dated) cell phone's card | verb: to pay the difference, to give in compensation | name: A transliteration of the German male given name Karl\"},\n",
       " 'quý': {'json': '[{\"pos\": \"name\", \"synonyms\": [\"Quí\"], \"etymology\": \"Sino-Vietnamese word from 癸.\", \"meanings\": [{\"meaning\": \"the tenth heavenly stem\"}]}, {\"pos\": \"name\", \"synonyms\": [\"Quí\"], \"etymology\": \"Sino-Vietnamese word from 貴 or 季.\", \"meanings\": [{\"meaning\": \"a male given name from Chinese\"}]}, {\"pos\": \"adj\", \"synonyms\": [\"quí\", \"quới\"], \"etymology\": \"Sino-Vietnamese word from 貴 (“valuable”).\", \"meanings\": [{\"meaning\": \"(of things) valuable; precious\", \"examples\": [\"của quý ― valuable belongings\"]}, {\"meaning\": \"(of people) that one holds honorable or respectable; important\", \"examples\": [\"Hôm nay nhà mình có khách quý. Mấy đứa nhớ chào hỏi lễ phép nhá. ― We\\'re having some important guests today. You kids don\\'t forget to give them a cordial welcome and behave yourselves.\"]}]}, {\"pos\": \"verb\", \"synonyms\": [\"quí\", \"quới\"], \"etymology\": \"Sino-Vietnamese word from 貴 (“valuable”).\", \"meanings\": [{\"meaning\": \"to treasure; to hold dear\", \"examples\": [\"Mẹ nó quý nó lắm. Cái gì cũng chiều. ― His mom really loves him. She panders to his every whim.\"]}]}, {\"pos\": \"prefix\", \"synonyms\": [\"quí\", \"quới\"], \"etymology\": \"Sino-Vietnamese word from 貴 (“valuable”).\", \"meanings\": [{\"meaning\": \"(honorific, only in fixed expressions) honorific prefix\", \"examples\": [\"quý ông; quý ngài ― a gentleman\", \"quý bà ― a lady\", \"quý vị ― sir; ma\\'am; everyone; you; our honorable audience\", \"Kính thưa quý vị và các bạn. ― Dear our treasured audience.\", \"quý ông bà anh chị em ― honorable audience\", \"Quý khách có muốn dùng gì nữa không ạ? ― Is there anything else you would like, sir/ma\\'am/our honorable customers?\"]}]}, {\"pos\": \"noun\", \"synonyms\": [\"quí\", \"quới\"], \"etymology\": \"Sino-Vietnamese word from 季.\", \"meanings\": [{\"meaning\": \"(of a year) a quarter\", \"examples\": [\"thành tích quý 1 ― first quarter achievements\"]}]}]',\n",
       "  'short': 'name: the tenth heavenly stem | name: a male given name from Chinese | adj: (of things) valuable; precious; (of people) that one holds honorable or respectable; important | verb: to treasure; to hold dear | prefix: (honorific, only in fixed expressions) honorific prefix | noun: (of a year) a quarter'},\n",
       " 'quý vị': {'json': '[{\"pos\": \"pron\", \"etymology\": \"Sino-Vietnamese word from 貴位 (“honoured position”).\", \"meanings\": [{\"meaning\": \"(polite, respectful) you\", \"examples\": [\"kính thưa quý vị… ― ladies and gentlemen…\"]}]}]',\n",
       "  'short': 'pron: (polite, respectful) you'},\n",
       " 'và': {'json': '[{\"pos\": \"conj\", \"etymology\": \"Non-Sino-Vietnamese reading of Chinese 和 (“and”, SV: hoà).\", \"meanings\": [{\"meaning\": \"(slightly formal) and\", \"examples\": [\"bạn và tôi ― you and I/me\", \"Chiến tranh và hoà bình ― War and Peace\", \"Tội ác và trừng phạt ― Crime and Punishment\"]}]}, {\"pos\": \"verb\", \"etymology\": \"Compare Pacoh cuva (“to scoop food into mouth”).\", \"meanings\": [{\"meaning\": \"To shovel food from a rice bowl into one\\'s mouth using a pair of chopsticks.\", \"examples\": [\"Cháu đã biết và cơm lấy rồi. ― The grandchild already knows how to shovel rice using chopsticks all by himself.\", \"Thị Tố bưng chén cơm mà và, cơm còn nóng nên khói lên nghi ngút.\", \"Thằng lớn và cơm phùng mồm ra, bị nghẹn mấy lần. ― The older one shoveled so much rice into his mouth that his cheeks bulged and he choked several times.\"]}]}, {\"pos\": \"det\", \"meanings\": [{\"meaning\": \"some (indefinite quantity greater than one)\"}]}]',\n",
       "  'short': \"conj: (slightly formal) and | verb: To shovel food from a rice bowl into one's mouth using a pair of chopsticks. | det: some (indefinite quantity greater than one)\"},\n",
       " 'vị': {'json': '[{\"pos\": \"noun\", \"etymology\": \"Sino-Vietnamese word from 味 (“taste”). Doublet of mùi (“smell”).\", \"meanings\": [{\"meaning\": \"taste\"}, {\"meaning\": \"flavour\"}]}, {\"pos\": \"prep\", \"etymology\": \"Sino-Vietnamese word from 為 (“for”). Doublet of vì. Compare also loại and loài, tự and từ, ngoại and ngoài.\", \"meanings\": [{\"meaning\": \"(rare, literary) for the sake of\", \"examples\": [\"nghệ thuật vị nghệ thuật/nhân sinh/luân lí/xã hội/tôn giáo ― art for art\\'s/life\\'s/morality\\'s/society\\'s/religion\\'s sake\"]}]}, {\"pos\": \"noun\", \"etymology\": \"Sino-Vietnamese word from 位. Doublet of vì.\", \"meanings\": [{\"meaning\": \"(formal, polite, chiefly in fixed expressions, rare elsewhere) used to address a person\", \"examples\": [\"quý vị ― sir/ma\\'am\", \"vị này ― this gentleman/lady\"]}]}, {\"pos\": \"classifier\", \"etymology\": \"Sino-Vietnamese word from 位. Doublet of vì.\", \"meanings\": [{\"meaning\": \"(formal, polite) Indicates important or respected people, such as a president (tổng thống), professor (giáo sư), general (tướng), etc.\"}]}]',\n",
       "  'short': 'noun: taste; flavour | prep: (rare, literary) for the sake of | noun: (formal, polite, chiefly in fixed expressions, rare elsewhere) used to address a person | classifier: (formal, polite) Indicates important or respected people, such as a president (tổng thống), professor (giáo sư), general (tướng), etc.'},\n",
       " 'xin': {'json': '[{\"pos\": \"verb\", \"etymology\": \"Contrary to some proposals (such as Ishihara (2014)), this term is unrelated to 請 (MC tshjengX), which contains both an unmatching rime and an unmatching tone.\", \"meanings\": [{\"meaning\": \"to ask for; to beg for; to request\", \"examples\": [\"xin tiền ― to ask for an allowance; to beg for money; to request a budget\", \"(honorific) Xin anh vui lòng cởi giày trước khi vào nhà ạ. ― (literally, “I beg you to take off your shoes before entering my house.”)\"]}, {\"meaning\": \"(honorific, humble) to humbly ask to do something\", \"examples\": [\"Xin chân thành cảm ơn mọi người đã tụ họp đông đủ tại đây. ― I\\'d like to thank everyone for attending this meeting, with no one being absent.\"]}]}]',\n",
       "  'short': 'verb: to ask for; to beg for; to request; (honorific, humble) to humbly ask to do something'},\n",
       " 'xin chào': {'json': '[{\"pos\": \"verb\", \"etymology\": \"xin (“to ask for”) + chào (“to greet”).\", \"meanings\": [{\"meaning\": \"(polite) to cordially greet\", \"examples\": [\"(Chúng tôi) xin (kính) chào quý vị và các bạn. ― We\\'d like to cordially welcome you to our establishment.\", \"“Xin chào có trong từ điển tiếng Việt hẳn hoi, có trong hầu hết tất cả phần dịch của các sách ngoại ngữ giao tiếp, nhưng đây lại là một từ gần như tuyệt chủng trong giao tiếp hàng ngày. Chỗ duy nhất mà tôi biết nơi “Xin chào” được chính thức hóa là nhà hàng gà rán Kentucky. Và thú thật, tôi có ác cảm với nó ngay từ lần đầu nó được áp dụng hồi tôi còn học cấp hai… ‘Xin chàooo!’ Thú thật tôi không hiểu vì sao KFC lại đề ra quy định này cho nhân viên… với phong cách hiện đại, chủ đề thức ăn nhanh và trẻ trung của KFC, nói ‘Hi’ là gọn lẹ và hợp nhất với tiêu chí của nhà hàng.”\\\\nChuyện Nghị là người Việt viết bài ở Vancouver để ủng hộ cách chào của tiếng Anh, còn tôi là người Canada viết bài ở Hà Nội để ủng hộ cách chào của tiếng Việt chứng tỏ rằng Thái Bình Dương đang ngày càng nhỏ đi. Nhưng nước vẫn còn và mình nên trôi về vấn đề chính: từ “Xin chào” chưa ổn. Nếu cảm giác của bạn Nghị là cảm giác phổ biến (và tôi tin thế) thì phải tìm từ khác.\\\\n“Xin chào is listed in Vietnamese dictionaries and in pretty much all translations in language-learning books, but it’s virtually nonexistent in daily convos. The only place I know xin chào to be an official term is a KFC. Honestly I had a strong aversion when I was first greeted with it back in middle school… ‘Xin chàoooo!’ I just don’t see why KFC enforces this on their employees… With their brand of modern service, fast and hip food, a single ‘Hi’ would do the trick.”\\\\nThe fact that Nghị as a Vietnamese in Vancouver endorsing English greetings and I as a Canadian in Hanoi endorsing Vietnamese ones proves that the Pacific Ocean is shrinking. But the water is still there and we should drift back to our main problem: xin chào doesn’t really work. If Nghị’s feeling is common (which I believe to be the case), we need an alternative.]\"]}]}]',\n",
       "  'short': 'verb: (polite) to cordially greet'}}"
      ]
     },
     "execution_count": 14,
     "metadata": {},
     "output_type": "execute_result"
    }
   ],
   "source": [
    "response.json()"
   ]
  }
 ],
 "metadata": {
  "kernelspec": {
   "display_name": "base",
   "language": "python",
   "name": "python3"
  },
  "language_info": {
   "codemirror_mode": {
    "name": "ipython",
    "version": 3
   },
   "file_extension": ".py",
   "mimetype": "text/x-python",
   "name": "python",
   "nbconvert_exporter": "python",
   "pygments_lexer": "ipython3",
   "version": "3.10.12"
  }
 },
 "nbformat": 4,
 "nbformat_minor": 2
}
